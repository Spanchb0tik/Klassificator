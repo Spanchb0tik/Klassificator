{
 "cells": [
  {
   "cell_type": "markdown",
   "id": "ab3a08e3",
   "metadata": {
    "slideshow": {
     "slide_type": "slide"
    },
    "pycharm": {
     "name": "#%% md\n"
    }
   },
   "source": [
    "#### Иморт библиотек для работы всего ноутбука\n",
    "\n"
   ]
  },
  {
   "cell_type": "code",
   "execution_count": 1,
   "id": "26cec598",
   "metadata": {
    "slideshow": {
     "slide_type": "subslide"
    },
    "pycharm": {
     "name": "#%%\n"
    }
   },
   "outputs": [],
   "source": [
    "import numpy as np  # Для работы с данными\n",
    "import pandas as pd  # Для работы с таблицами\n",
    "import matplotlib.pyplot as plt  # Для вывода графиков\n",
    "import os  # Для работы с файлами\n",
    "\n",
    "#from tensorflow.keras.utils import to_categorical\n",
    "from tensorflow.keras import utils  # Для работы с категориальными данными\n",
    "from tensorflow.keras.models import Sequential  # Полносвязная модель\n",
    "from tensorflow.keras.layers import Dense, Dropout, BatchNormalization, Activation  # Слои для сети\n",
    "from tensorflow.keras.preprocessing.text import \\\n",
    "    Tokenizer  # Методы для работы с текстами и преобразования их в последовательности\n",
    "from tensorflow.keras.preprocessing.sequence import pad_sequences  # Метод для работы с последовательностями\n",
    "\n",
    "from sklearn.preprocessing import LabelEncoder  # Метод кодирования тестовых лейблов\n",
    "from sklearn.model_selection import train_test_split  # Для разделения выборки на тестовую и обучающую\n",
    "import time  # Импортируем библиотеку time"
   ]
  },
  {
   "cell_type": "markdown",
   "id": "66746ae6",
   "metadata": {
    "slideshow": {
     "slide_type": "slide"
    },
    "pycharm": {
     "name": "#%% md\n"
    }
   },
   "source": [
    "### Классификация текстов сайтов"
   ]
  },
  {
   "cell_type": "code",
   "execution_count": 2,
   "id": "32b9d9b8",
   "metadata": {
    "slideshow": {
     "slide_type": "subslide"
    },
    "pycharm": {
     "name": "#%%\n"
    }
   },
   "outputs": [],
   "source": [
    "def readText(fileName, a):  # Объявляем функции для чтения файла. На вход отправляем путь к файлу\n",
    "    f = open(fileName, 'r', encoding=a)  # Задаем открытие нужного файла в режиме чтения\n",
    "    text = f.read()  # Читаем текст\n",
    "    text = text.replace(\"\\n\", \" \")  # Переносы строки переводим в пробелы\n",
    "\n",
    "    return text  # Возвращаем текст файла\n",
    "\n",
    "\n",
    "# Объявляем интересующие нас классы\n",
    "className = ['alt.atheism', 'comp.graphics', 'comp.os.ms-windows.misc', 'comp.sys.ibm.pc.hardware', 'comp.sys.mac.hardware', \n",
    "             'misc.forsale', 'rec.autos', 'rec.motorcycles', 'rec.sport.baseball', 'rec.sport.hockey', 'sci.crypt', 'sci.electronics', 'sci.med', \n",
    "             'sci.space', 'soc.religion.christian', 'talk.politics.guns', 'talk.politics.mideast']\n",
    "nClasses = len(className)"
   ]
  },
  {
   "cell_type": "code",
   "execution_count": 3,
   "id": "9f60be69",
   "metadata": {
    "slideshow": {
     "slide_type": "subslide"
    },
    "pycharm": {
     "name": "#%%\n"
    }
   },
   "outputs": [],
   "source": [
    "# загружаем обучающие тексты\n",
    "\n",
    "trainText = []  # формируем обучающие тексты\n",
    "testText = []  # формируем тестовые тексты\n",
    "\n",
    "for i in os.listdir(r'C:\\Users\\Mops010\\Downloads\\dataset1'):  # проходимся по папке dataset\n",
    "    if 'train' in i:  # проверяем есть ли в имени файла из dataset слово train\n",
    "        for elem in os.listdir(r'C:\\Users\\Mops010\\Downloads\\dataset1\\20news-bydate-train'):\n",
    "            for elem1 in os.listdir(r'C:\\Users\\Mops010\\Downloads\\dataset1\\20news-bydate-train/' + elem):\n",
    "                # добавляем в обучающую выборку\n",
    "                trainText.append(\n",
    "                    readText(r'C:\\Users\\Mops010\\Downloads\\dataset1\\20news-bydate-train/' + elem + '/' + elem1, None))\n",
    "\n",
    "    if 'test' in i:  # проверяем есть ли в имени файла из dataset слово train\n",
    "        for elem in os.listdir(r'C:\\Users\\Mops010\\Downloads\\dataset1\\20news-bydate-test'):\n",
    "            for elem1 in os.listdir(r'C:\\Users\\Mops010\\Downloads\\dataset1\\20news-bydate-test/' + elem):\n",
    "                # добавляем в обучающую выборку\n",
    "                testText.append(\n",
    "                    readText(r'C:\\Users\\Mops010\\Downloads\\dataset1\\20news-bydate-test/' + elem + '/' + elem1, None))"
   ]
  },
  {
   "cell_type": "markdown",
   "id": "7447c4f7",
   "metadata": {
    "slideshow": {
     "slide_type": "slide"
    },
    "pycharm": {
     "name": "#%% md\n"
    }
   },
   "source": [
    "#### Обработка данных. Преобразование текстовых данных в числовые и векторные для обчения нейросети"
   ]
  },
  {
   "cell_type": "code",
   "execution_count": 4,
   "id": "aa9cd19c",
   "metadata": {
    "slideshow": {
     "slide_type": "subslide"
    },
    "pycharm": {
     "name": "#%%\n"
    }
   },
   "outputs": [
    {
     "name": "stdout",
     "output_type": "stream",
     "text": [
      "Время обработки: 1.46c\n"
     ]
    }
   ],
   "source": [
    "cur_time = time.time()  # Засекаем текущее время\n",
    "maxWordsCount = 20000  # Определяем максимальное количество слов/индексов, учитываемое при обучении текстов\n",
    "\n",
    "# Воспользуемся встроенной в Keras функцией Tokenizer для разбиения текста и превращения в матрицу числовых значений\n",
    "# num_words=maxWordsCount - определяем максимальное количество слов/индексов, учитываемое при обучении текстов\n",
    "# filters='!\"#$%&()*+,-./:;<=>?@[\\\\]^_`{|}~\\t\\n' - избавляемся от ненужных символов\n",
    "# lower=True - приводим слова к нижнему регистру\n",
    "# split=' ' - разделяем слова по пробелу\n",
    "# char_level=False - просим токенайзер не удалять однобуквенные слова\n",
    "tokenizer = Tokenizer(num_words=maxWordsCount, filters='!\"#$%&()*+,-–—./…:;<=>?@[\\\\]^_`{|}~«»\\t\\n\\xa0\\ufeff',\n",
    "                      lower=True, split=' ', oov_token='unknown', char_level=False)\n",
    "\n",
    "tokenizer.fit_on_texts(\n",
    "    trainText)  # \"Скармливаем\" наши тексты, т.е. даём в обработку методу, который соберет словарь частотности\n",
    "items = list(tokenizer.word_index.items())  # Вытаскиваем индексы слов для просмотра\n",
    "print('Время обработки: ', round(time.time() - cur_time, 2), 'c', sep='')"
   ]
  },
  {
   "cell_type": "code",
   "execution_count": 5,
   "id": "144ce0a9",
   "metadata": {
    "slideshow": {
     "slide_type": "subslide"
    },
    "pycharm": {
     "name": "#%%\n"
    }
   },
   "outputs": [
    {
     "name": "stdout",
     "output_type": "stream",
     "text": [
      "Взглянем на фрагмент обучающего текста:\n",
      "В виде оригинального текста:               From: lipman@oasys.dt.navy.mil (Robert Lipman) Subject: CALL FOR PRESENTATIONS: Navy Sc\n",
      "Он же в виде последовательности индексов:  [15, 8937, 4596, 3385, 1515, 1018, 513, 8937, 30, 373, 13, 7541, 1515, 3306, 6391, 8938, 59, 9, 114, 4596] \n",
      "\n",
      "17 17\n"
     ]
    }
   ],
   "source": [
    "# Преобразовываем текст в последовательность индексов согласно частотному словарю\n",
    "trainWordIndexes = tokenizer.texts_to_sequences(trainText)  # Обучающие тесты в индексы\n",
    "testWordIndexes = tokenizer.texts_to_sequences(testText)  # Проверочные тесты в индексы\n",
    "\n",
    "print(\"Взглянем на фрагмент обучающего текста:\")\n",
    "print(\"В виде оригинального текста:              \", trainText[1][:87])\n",
    "print(\"Он же в виде последовательности индексов: \", trainWordIndexes[1][:20], '\\n')\n",
    "print(len(trainWordIndexes), len(testWordIndexes))"
   ]
  },
  {
   "cell_type": "code",
   "execution_count": 6,
   "id": "ac3e51b0",
   "metadata": {
    "scrolled": false,
    "slideshow": {
     "slide_type": "subslide"
    },
    "pycharm": {
     "name": "#%%\n"
    }
   },
   "outputs": [
    {
     "name": "stdout",
     "output_type": "stream",
     "text": [
      "Статистика по обучающим текстам:\n",
      "alt.atheism   1040310 символов,  170983 слов\n",
      "comp.graphics   909347 символов,  141388 слов\n",
      "comp.os.ms-windows.misc   1768620 символов,  379599 слов\n",
      "comp.sys.ibm.pc.hardware   798090 символов,  131217 слов\n",
      "comp.sys.mac.hardware   694017 символов,  115202 слов\n",
      "misc.forsale   608874 символов,  92293 слов\n",
      "rec.autos   858272 символов,  143012 слов\n",
      "rec.motorcycles   808755 символов,  131479 слов\n",
      "rec.sport.baseball   848376 символов,  141859 слов\n",
      "rec.sport.hockey   1187248 символов,  194011 слов\n",
      "sci.crypt   1500112 символов,  239680 слов\n",
      "sci.electronics   812524 символов,  131570 слов\n",
      "sci.med   1192827 символов,  186068 слов\n",
      "sci.space   1195589 символов,  188424 слов\n",
      "soc.religion.christian   1355647 символов,  227994 слов\n",
      "talk.politics.guns   1310831 символов,  213596 слов\n",
      "talk.politics.mideast   1763573 символов,  287106 слов\n",
      "----\n",
      "В сумме  18653012  символов,  3115481  слов \n",
      "\n",
      "\n",
      "Статистика по тестовым текстам:\n",
      "alt.atheism   701644 символов,  113553 слов\n",
      "comp.graphics   848072 символов,  133356 слов\n",
      "comp.os.ms-windows.misc   705096 символов,  127153 слов\n",
      "comp.sys.ibm.pc.hardware   483748 символов,  80389 слов\n",
      "comp.sys.mac.hardware   467274 символов,  76780 слов\n",
      "misc.forsale   414368 символов,  64504 слов\n",
      "rec.autos   533796 символов,  88778 слов\n",
      "rec.motorcycles   496139 символов,  80874 слов\n",
      "rec.sport.baseball   617023 символов,  103114 слов\n",
      "rec.sport.hockey   664786 символов,  108528 слов\n",
      "sci.crypt   656139 символов,  105873 слов\n",
      "sci.electronics   521529 символов,  84257 слов\n",
      "sci.med   790242 символов,  122157 слов\n",
      "sci.space   720217 символов,  114341 слов\n",
      "soc.religion.christian   1002072 символов,  168867 слов\n",
      "talk.politics.guns   700017 символов,  114164 слов\n",
      "talk.politics.mideast   1234927 символов,  198499 слов\n",
      "----\n",
      "В сумме  11557089  символов,  1885187  слов\n"
     ]
    }
   ],
   "source": [
    "print(\"Статистика по обучающим текстам:\")\n",
    "\n",
    "symbolsTrainText = 0  # Объявляем переменную для подсчета символов в обучающих текстах\n",
    "wordsTrainText = 0  # Объявляем переменную для подсчета слов в обучающих текстах\n",
    "\n",
    "for i in range(nClasses):  # Проходим по всем классам\n",
    "    print(className[i], \" \", len(trainText[i]), \"символов, \", len(trainWordIndexes[i]),\n",
    "          \"слов\")\n",
    "    symbolsTrainText += len(trainText[i])  # Считаем символы\n",
    "    wordsTrainText += len(trainWordIndexes[i])  # Считаем слова\n",
    "\n",
    "print('----')\n",
    "print(\"В сумме \", symbolsTrainText, \" символов, \", wordsTrainText, \" слов \\n\")\n",
    "print()\n",
    "print(\"Статистика по тестовым текстам:\")\n",
    "\n",
    "symbolsTestText = 0  # Объявляем переменную для подсчета символов в тестовых текстах\n",
    "wordsTestText = 0  # Объявляем переменную для подсчета слов в тестовых текстах\n",
    "\n",
    "for i in range(nClasses):  #Проходим по всем классам\n",
    "    print(className[i], ' ', len(testText[i]), \"символов, \", len(testWordIndexes[i]), \"слов\")\n",
    "    symbolsTestText += len(testText[i])  #Считаем символы\n",
    "    wordsTestText += len(testWordIndexes[i])  #Считаем слова\n",
    "print('----')\n",
    "print(\"В сумме \", symbolsTestText, \" символов, \", wordsTestText, \" слов\")\n",
    "\n",
    "\n",
    "### Создание обучающей и проверочной выборки\n",
    "#### Функции для формирования выборки по отрезкам текста с заданным шагом\n",
    "\n",
    "# Формирование обучающей выборки по листу индексов слов\n",
    "# (разделение на короткие векторы)\n",
    "def getSetFromIndexes(wordIndexes, xLen, step):  # функция принимает последовательность индексов, размер окна, шаг окна\n",
    "    xSample = []  # Объявляем переменную для векторов\n",
    "    wordsLen = len(wordIndexes)  # Считаем количество слов\n",
    "    index = 0  # Задаем начальный индекс\n",
    "\n",
    "    while index + xLen <= wordsLen:  # Идём по всей длине вектора индексов\n",
    "        xSample.append(wordIndexes[index:index + xLen])  # \"Откусываем\" векторы длины xLen\n",
    "        index += step  # Смещаемся вперёд на step\n",
    "\n",
    "    return xSample\n",
    "\n",
    "\n",
    "# Формирование обучающей и проверочной выборки\n",
    "# Из двух листов индексов от двух классов\n",
    "def createSetsMultiClasses(wordIndexes, xLen,\n",
    "                           step):  # Функция принимает последовательность индексов, размер окна, шаг окна\n",
    "\n",
    "    # Для каждого из 6 классов\n",
    "    # Создаём обучающую/проверочную выборку из индексов\n",
    "    nClasses = len(wordIndexes)  # Задаем количество классов выборки\n",
    "    classesXSamples = []  # Здесь будет список размером \"кол-во классов*кол-во окон в тексте*длину окна (например, 6 по 1341*1000)\"\n",
    "    for wI in wordIndexes:  # Для каждого текста выборки из последовательности индексов\n",
    "        classesXSamples.append(getSetFromIndexes(wI, xLen,\n",
    "                                                 step))  # Добавляем в список очередной текст индексов, разбитый на \"кол-во окон*длину окна\"\n",
    "\n",
    "    # Формируем один общий xSamples\n",
    "    xSamples = []  # Здесь будет список размером \"суммарное кол-во окон во всех текстах*длину окна (например, 15779*1000)\"\n",
    "    ySamples = []  # Здесь будет список размером \"суммарное кол-во окон во всех текстах*вектор длиной 6\"\n",
    "\n",
    "    for t in range(nClasses):  # В диапазоне кол-ва классов(6)\n",
    "        xT = classesXSamples[t]  # Берем очередной текст вида \"кол-во окон в тексте*длину окна\"(например, 1341*1000)\n",
    "        for i in range(len(xT)):  # И каждое его окно\n",
    "            xSamples.append(xT[i])  # Добавляем в общий список выборки\n",
    "            ySamples.append(utils.to_categorical(t, num_classes=nClasses))  # Добавляем соответствующий вектор класса\n",
    "\n",
    "    xSamples = np.array(xSamples)  # Переводим в массив numpy для подачи в нейронку\n",
    "    ySamples = np.array(ySamples)  # Переводим в массив numpy для подачи в нейронку\n",
    "\n",
    "    return xSamples, ySamples  #Функция возвращает выборку и соответствующие векторы классов"
   ]
  },
  {
   "cell_type": "markdown",
   "id": "9de8729b",
   "metadata": {
    "slideshow": {
     "slide_type": "slide"
    },
    "pycharm": {
     "name": "#%% md\n"
    }
   },
   "source": [
    "#### Подготовка данных"
   ]
  },
  {
   "cell_type": "code",
   "execution_count": 10,
   "id": "7eac0910",
   "metadata": {
    "slideshow": {
     "slide_type": "subslide"
    },
    "pycharm": {
     "name": "#%%\n"
    }
   },
   "outputs": [],
   "source": [
    "#Задаём базовые параметры\n",
    "xLen = 500  #Длина отрезка текста, по которой анализируем, в словах\n",
    "step = 50 #Шаг разбиения исходного текста на обучающие векторы\n"
   ]
  },
  {
   "cell_type": "code",
   "execution_count": 11,
   "id": "2bb2f5da",
   "metadata": {
    "slideshow": {
     "slide_type": "subslide"
    },
    "pycharm": {
     "name": "#%%\n"
    }
   },
   "outputs": [
    {
     "name": "stdout",
     "output_type": "stream",
     "text": [
      "(62148, 500)\n",
      "(62148, 17)\n",
      "(37544, 500)\n",
      "(37544, 17)\n",
      "Время обработки: 2.66c\n"
     ]
    }
   ],
   "source": [
    "cur_time = time.time()  # Засекаем текущее время\n",
    "#Формируем обучающую и тестовую выборку\n",
    "xTrain, yTrain = createSetsMultiClasses(trainWordIndexes, xLen, step)  #извлекаем обучающую выборку\n",
    "xTest, yTest = createSetsMultiClasses(testWordIndexes, xLen, step)  #извлекаем тестовую выборку\n",
    "print(xTrain.shape)\n",
    "print(yTrain.shape)\n",
    "print(xTest.shape)\n",
    "print(yTest.shape)\n",
    "#получили обучающий/тестовый набор, достаточный для запуска Embedding, но для Bag of Words нужно xTrain и xTest представить в виде векторов из 0 и 1\n",
    "print('Время обработки: ', round(time.time() - cur_time, 2), 'c', sep='')"
   ]
  },
  {
   "cell_type": "code",
   "execution_count": 12,
   "id": "3e3f0ffa",
   "metadata": {
    "slideshow": {
     "slide_type": "subslide"
    },
    "pycharm": {
     "name": "#%%\n"
    }
   },
   "outputs": [
    {
     "name": "stdout",
     "output_type": "stream",
     "text": [
      "(62148, 20000)\n",
      "[0. 0. 1. 0. 1. 1. 1. 1. 1. 0. 1. 0. 0. 1. 0. 1. 0. 1. 0. 1. 1. 0. 0. 1.\n",
      " 1. 0. 1. 0. 1. 0. 1. 1. 1. 0. 1. 1. 0. 1. 0. 0. 1. 0. 1. 0. 1. 0. 0. 0.\n",
      " 1. 0. 0. 0. 0. 0. 0. 0. 0. 1. 0. 0. 0. 0. 0. 0. 0. 1. 0. 0. 1. 0. 1. 1.\n",
      " 1. 1. 0. 1. 0. 0. 0. 0. 0. 0. 1. 0. 0. 0. 1. 0. 1. 0. 0. 0. 0. 1. 0. 0.\n",
      " 0. 1. 0. 0.]\n",
      "Время обработки: 17.59c\n"
     ]
    }
   ],
   "source": [
    "cur_time = time.time()  # Засекаем текущее время\n",
    "# Преобразовываем полученные выборки из последовательности индексов в матрицы нулей и единиц по принципу Bag of Words\n",
    "xTrain01 = tokenizer.sequences_to_matrix(xTrain.tolist())  #Подаем xTrain в виде списка, чтобы метод успешно сработал\n",
    "xTest01 = tokenizer.sequences_to_matrix(xTest.tolist())  # Подаем xTest в виде списка, чтобы метод успешно сработал\n",
    "\n",
    "print(xTrain01.shape)  # Размер обучающей выборки, сформированной по Bag of Words\n",
    "print(xTrain01[0][0:100])  # Фрагмент набора слов в виде Bag of Words\n",
    "print('Время обработки: ', round(time.time() - cur_time, 2), 'c', sep='')"
   ]
  },
  {
   "cell_type": "markdown",
   "id": "38504018",
   "metadata": {
    "slideshow": {
     "slide_type": "slide"
    },
    "pycharm": {
     "name": "#%% md\n"
    }
   },
   "source": [
    "### Нейросеть"
   ]
  },
  {
   "cell_type": "code",
   "execution_count": 13,
   "id": "5322f7b7",
   "metadata": {
    "slideshow": {
     "slide_type": "subslide"
    },
    "pycharm": {
     "name": "#%%\n"
    }
   },
   "outputs": [
    {
     "name": "stdout",
     "output_type": "stream",
     "text": [
      "Model: \"sequential\"\n",
      "_________________________________________________________________\n",
      " Layer (type)                Output Shape              Param #   \n",
      "=================================================================\n",
      " dense (Dense)               (None, 500)               10000500  \n",
      "                                                                 \n",
      " dropout (Dropout)           (None, 500)               0         \n",
      "                                                                 \n",
      " batch_normalization (BatchN  (None, 500)              2000      \n",
      " ormalization)                                                   \n",
      "                                                                 \n",
      " dense_1 (Dense)             (None, 17)                8517      \n",
      "                                                                 \n",
      "=================================================================\n",
      "Total params: 10,011,017\n",
      "Trainable params: 10,010,017\n",
      "Non-trainable params: 1,000\n",
      "_________________________________________________________________\n",
      "Epoch 1/10\n",
      "486/486 [==============================] - 60s 121ms/step - loss: 0.0332 - accuracy: 0.9909 - val_loss: 0.1742 - val_accuracy: 0.9511\n",
      "Epoch 2/10\n",
      "486/486 [==============================] - 38s 78ms/step - loss: 8.0939e-05 - accuracy: 1.0000 - val_loss: 0.1761 - val_accuracy: 0.9520\n",
      "Epoch 3/10\n",
      "486/486 [==============================] - 38s 78ms/step - loss: 3.8417e-05 - accuracy: 1.0000 - val_loss: 0.1769 - val_accuracy: 0.9527\n",
      "Epoch 4/10\n",
      "486/486 [==============================] - 38s 78ms/step - loss: 2.2486e-05 - accuracy: 1.0000 - val_loss: 0.1769 - val_accuracy: 0.9532\n",
      "Epoch 5/10\n",
      "486/486 [==============================] - 38s 78ms/step - loss: 1.4305e-05 - accuracy: 1.0000 - val_loss: 0.1774 - val_accuracy: 0.9534\n",
      "Epoch 6/10\n",
      "486/486 [==============================] - 38s 78ms/step - loss: 1.0161e-05 - accuracy: 1.0000 - val_loss: 0.1773 - val_accuracy: 0.9538\n",
      "Epoch 7/10\n",
      "486/486 [==============================] - 37s 77ms/step - loss: 7.7557e-06 - accuracy: 1.0000 - val_loss: 0.1778 - val_accuracy: 0.9540\n",
      "Epoch 8/10\n",
      "486/486 [==============================] - 38s 78ms/step - loss: 5.4118e-06 - accuracy: 1.0000 - val_loss: 0.1802 - val_accuracy: 0.9539\n",
      "Epoch 9/10\n",
      "486/486 [==============================] - 38s 78ms/step - loss: 4.1960e-06 - accuracy: 1.0000 - val_loss: 0.1814 - val_accuracy: 0.9541\n",
      "Epoch 10/10\n",
      "486/486 [==============================] - 38s 78ms/step - loss: 3.2875e-06 - accuracy: 1.0000 - val_loss: 0.1821 - val_accuracy: 0.9543\n"
     ]
    },
    {
     "data": {
      "image/png": "[encoded data removed]",
      "text/plain": [
       "<Figure size 640x480 with 1 Axes>"
      ]
     },
     "metadata": {},
     "output_type": "display_data"
    },
    {
     "name": "stdout",
     "output_type": "stream",
     "text": [
      "7.3 мин\n"
     ]
    }
   ],
   "source": [
    "cur_time = time.time()\n",
    "#Создаём полносвязную сеть\n",
    "model01 = Sequential()\n",
    "#Первый полносвязный слой\n",
    "model01.add(Dense(500, input_dim=maxWordsCount, activation=\"relu\"))\n",
    "#Слой регуляризации Dropout\n",
    "model01.add(Dropout(0.20))\n",
    "#Слой пакетной нормализации\n",
    "model01.add(BatchNormalization())\n",
    "#Выходной полносвязный слой\n",
    "model01.add(Dense(17, activation='softmax'))\n",
    "\n",
    "model01.compile(optimizer='adam',\n",
    "                loss='categorical_crossentropy',\n",
    "                metrics=['accuracy'])\n",
    "\n",
    "model01.summary()\n",
    "\n",
    "#Обучаем сеть на выборке, сформированной по bag of words - xTrain01\n",
    "history = model01.fit(xTrain01,\n",
    "                      yTrain,\n",
    "                      epochs=10,\n",
    "                      batch_size=128,\n",
    "                      validation_data=(xTest01, yTest))\n",
    "\n",
    "plt.plot(history.history['accuracy'],\n",
    "         label='Доля верных ответов на обучающем наборе')\n",
    "plt.plot(history.history['val_accuracy'],\n",
    "         label='Доля верных ответов на проверочном наборе')\n",
    "plt.xlabel('Эпоха обучения')\n",
    "plt.ylabel('Доля верных ответов')\n",
    "plt.legend()\n",
    "plt.show()\n",
    "print(f'{round(int(time.time() - cur_time) / 60, 2)} мин')"
   ]
  },
  {
   "cell_type": "code",
   "execution_count": 14,
   "id": "6f964da8",
   "metadata": {
    "pycharm": {
     "name": "#%%\n"
    }
   },
   "outputs": [
    {
     "name": "stderr",
     "output_type": "stream",
     "text": [
      "WARNING:absl:Found untraced functions such as _update_step_xla while saving (showing 1 of 1). These functions will not be directly callable after loading.\n"
     ]
    },
    {
     "name": "stdout",
     "output_type": "stream",
     "text": [
      "INFO:tensorflow:Assets written to: model01\\assets\n"
     ]
    },
    {
     "name": "stderr",
     "output_type": "stream",
     "text": [
      "INFO:tensorflow:Assets written to: model01\\assets\n"
     ]
    }
   ],
   "source": [
    "model01.save('model01')"
   ]
  },
  {
   "cell_type": "code",
   "execution_count": 15,
   "id": "5834879d",
   "metadata": {
    "pycharm": {
     "name": "#%%\n"
    }
   },
   "outputs": [],
   "source": [
    "from tensorflow import keras\n",
    "\n",
    "model = keras.models.load_model('model01')"
   ]
  },
  {
   "cell_type": "markdown",
   "id": "44148894",
   "metadata": {
    "slideshow": {
     "slide_type": "slide"
    },
    "pycharm": {
     "name": "#%% md\n"
    }
   },
   "source": [
    "#### Распознавание проверочной выборки"
   ]
  },
  {
   "cell_type": "code",
   "execution_count": 11,
   "id": "ea4cc686",
   "metadata": {
    "slideshow": {
     "slide_type": "subslide"
    },
    "pycharm": {
     "name": "#%%\n"
    }
   },
   "outputs": [],
   "source": [
    "# Представляем тестовую выборку в удобных для распознавания размерах\n",
    "def createTestMultiClasses(wordIndexes, xLen,\n",
    "                           step):  #функция принимает последовательность индексов, размер окна, шаг окна\n",
    "\n",
    "    #Для каждого из 6 классов\n",
    "    #Создаём тестовую выборку из индексов\n",
    "    nClasses = len(wordIndexes)  #Задаем количество классов\n",
    "    xTest6Classes01 = []  #Здесь будет список из всех классов, каждый размером \"кол-во окон в тексте * 20000 (при maxWordsCount=20000)\"\n",
    "    xTest6Classes = []  #Здесь будет список массивов, каждый размером \"кол-во окон в тексте * длину окна\"(6 по 420*1000)\n",
    "    for wI in wordIndexes:  #Для каждого тестового текста из последовательности индексов\n",
    "        sample = (\n",
    "            getSetFromIndexes(wI, xLen, step))  #Тестовая выборка размером \"кол-во окон*длину окна\"(например, 420*1000)\n",
    "        xTest6Classes.append(sample)  # Добавляем в список\n",
    "        xTest6Classes01.append(tokenizer.sequences_to_matrix(\n",
    "            sample))  #Трансформируется в Bag of Words в виде \"кол-во окон в тексте * 20000\"\n",
    "    xTest6Classes01 = np.array(xTest6Classes01)  #И добавляется к нашему списку,\n",
    "    xTest6Classes = np.array(xTest6Classes)  #И добавляется к нашему списку,\n",
    "\n",
    "    return xTest6Classes01, xTest6Classes  #функция вернёт тестовые данные: TestBag 6 классов на n*20000 и xTestEm 6 по n*1000\n",
    "\n",
    "\n",
    "# Распознаём тестовую выборку и выводим результаты\n",
    "def recognizeMultiClass(model, xTest, modelName):\n",
    "    print(\"НЕЙРОНКА: \", modelName)\n",
    "    print()\n",
    "\n",
    "    totalSumRec = 0  # Сумма всех правильных ответов\n",
    "\n",
    "    #Проходим по всем классам\n",
    "    for i in range(nClasses):\n",
    "        #Получаем результаты распознавания класса по блокам слов длины xLen\n",
    "        currPred = model.predict(xTest[i])\n",
    "        #Определяем номер распознанного класса для каждого блока слов длины xLen\n",
    "        currOut = np.argmax(currPred, axis=1)\n",
    "\n",
    "        evVal = []\n",
    "        for j in range(nClasses):\n",
    "            evVal.append(len(currOut[currOut == j]) / len(xTest[i]))\n",
    "\n",
    "        totalSumRec += len(currOut[currOut == i])\n",
    "        recognizedClass = np.argmax(evVal)  #Определяем, какой класс в итоге за какой был распознан\n",
    "\n",
    "        #Выводим результаты распознавания по текущему классу\n",
    "        isRecognized = \" Это НЕПРАВИЛЬНЫЙ ответ!\"\n",
    "        if recognizedClass == i:\n",
    "            isRecognized = \" Это ПРАВИЛЬНЫЙ ответ!\"\n",
    "        str1 = 'Класс: ' + className[i] + \" \" + str(int(100 * evVal[i])) + \"% сеть отнесла к классу \" + className[\n",
    "            recognizedClass]\n",
    "        print(str1, \" \" * (55 - len(str1)), isRecognized, sep='')\n",
    "\n",
    "    #Выводим средний процент распознавания по всем классам вместе\n",
    "    print()\n",
    "    sumCount = 0\n",
    "    for i in range(nClasses):\n",
    "        sumCount += len(xTest[i])\n",
    "    print(\"Средний процент распознавания \", int(100 * totalSumRec / sumCount), \"%\", sep='')\n",
    "\n",
    "    print()\n",
    "\n",
    "    return totalSumRec / sumCount"
   ]
  },
  {
   "cell_type": "code",
   "execution_count": 12,
   "id": "b5abf500",
   "metadata": {
    "slideshow": {
     "slide_type": "subslide"
    },
    "pycharm": {
     "name": "#%%\n"
    }
   },
   "outputs": [
    {
     "name": "stderr",
     "output_type": "stream",
     "text": [
      "C:\\Users\\Mops010\\AppData\\Local\\Temp\\ipykernel_13080\\3752828187.py:16: VisibleDeprecationWarning: Creating an ndarray from ragged nested sequences (which is a list-or-tuple of lists-or-tuples-or ndarrays with different lengths or shapes) is deprecated. If you meant to do this, you must specify 'dtype=object' when creating the ndarray.\n",
      "  xTest6Classes01 = np.array(xTest6Classes01)  #И добавляется к нашему списку,\n",
      "C:\\Users\\Mops010\\AppData\\Local\\Temp\\ipykernel_13080\\3752828187.py:17: VisibleDeprecationWarning: Creating an ndarray from ragged nested sequences (which is a list-or-tuple of lists-or-tuples-or ndarrays with different lengths or shapes) is deprecated. If you meant to do this, you must specify 'dtype=object' when creating the ndarray.\n",
      "  xTest6Classes = np.array(xTest6Classes)  #И добавляется к нашему списку,\n"
     ]
    }
   ],
   "source": [
    "xTest6Classes01, x2 = createTestMultiClasses(testWordIndexes, xLen, step)  #Преобразование тестовой выборки"
   ]
  },
  {
   "cell_type": "code",
   "execution_count": 13,
   "id": "af6df322",
   "metadata": {
    "slideshow": {
     "slide_type": "subslide"
    },
    "pycharm": {
     "name": "#%%\n"
    }
   },
   "outputs": [
    {
     "name": "stdout",
     "output_type": "stream",
     "text": [
      "НЕЙРОНКА:  Тексты 01 + Dense\n",
      "\n",
      "71/71 [==============================] - 0s 5ms/step\n",
      "Класс: alt.atheism 87% сеть отнесла к классу alt.atheism Это ПРАВИЛЬНЫЙ ответ!\n",
      "84/84 [==============================] - 0s 5ms/step\n",
      "Класс: comp.graphics 93% сеть отнесла к классу comp.graphics Это ПРАВИЛЬНЫЙ ответ!\n",
      "80/80 [==============================] - 0s 5ms/step\n",
      "Класс: comp.os.ms-windows.misc 89% сеть отнесла к классу comp.os.ms-windows.misc Это ПРАВИЛЬНЫЙ ответ!\n",
      "50/50 [==============================] - 0s 5ms/step\n",
      "Класс: comp.sys.ibm.pc.hardware 90% сеть отнесла к классу comp.sys.ibm.pc.hardware Это ПРАВИЛЬНЫЙ ответ!\n",
      "48/48 [==============================] - 0s 5ms/step\n",
      "Класс: comp.sys.mac.hardware 90% сеть отнесла к классу comp.sys.mac.hardware Это ПРАВИЛЬНЫЙ ответ!\n",
      "41/41 [==============================] - 0s 5ms/step\n",
      "Класс: misc.forsale 96% сеть отнесла к классу misc.forsale Это ПРАВИЛЬНЫЙ ответ!\n",
      "56/56 [==============================] - 0s 5ms/step\n",
      "Класс: rec.autos 99% сеть отнесла к классу rec.autos    Это ПРАВИЛЬНЫЙ ответ!\n",
      "51/51 [==============================] - 0s 5ms/step\n",
      "Класс: rec.motorcycles 99% сеть отнесла к классу rec.motorcycles Это ПРАВИЛЬНЫЙ ответ!\n",
      "65/65 [==============================] - 0s 5ms/step\n",
      "Класс: rec.sport.baseball 99% сеть отнесла к классу rec.sport.baseball Это ПРАВИЛЬНЫЙ ответ!\n",
      "68/68 [==============================] - 0s 5ms/step\n",
      "Класс: rec.sport.hockey 99% сеть отнесла к классу rec.sport.hockey Это ПРАВИЛЬНЫЙ ответ!\n",
      "66/66 [==============================] - 0s 5ms/step\n",
      "Класс: sci.crypt 96% сеть отнесла к классу sci.crypt    Это ПРАВИЛЬНЫЙ ответ!\n",
      "53/53 [==============================] - 0s 5ms/step\n",
      "Класс: sci.electronics 89% сеть отнесла к классу sci.electronics Это ПРАВИЛЬНЫЙ ответ!\n",
      "77/77 [==============================] - 0s 5ms/step\n",
      "Класс: sci.med 97% сеть отнесла к классу sci.med        Это ПРАВИЛЬНЫЙ ответ!\n",
      "72/72 [==============================] - 0s 5ms/step\n",
      "Класс: sci.space 98% сеть отнесла к классу sci.space    Это ПРАВИЛЬНЫЙ ответ!\n",
      "106/106 [==============================] - 1s 5ms/step\n",
      "Класс: soc.religion.christian 97% сеть отнесла к классу soc.religion.christian Это ПРАВИЛЬНЫЙ ответ!\n",
      "72/72 [==============================] - 0s 5ms/step\n",
      "Класс: talk.politics.guns 96% сеть отнесла к классу talk.politics.guns Это ПРАВИЛЬНЫЙ ответ!\n",
      "124/124 [==============================] - 1s 5ms/step\n",
      "Класс: talk.politics.mideast 97% сеть отнесла к классу talk.politics.mideast Это ПРАВИЛЬНЫЙ ответ!\n",
      "\n",
      "Средний процент распознавания 95%\n",
      "\n"
     ]
    }
   ],
   "source": [
    "#Проверяем точность нейронки обученной на bag of words\n",
    "pred = recognizeMultiClass(model01, xTest6Classes01, \"Тексты 01 + Dense\")"
   ]
  },
  {
   "cell_type": "markdown",
   "id": "efc3d49a",
   "metadata": {
    "pycharm": {
     "name": "#%% md\n"
    }
   },
   "source": [
    "### Считывание и обработка введённой URL ссылки"
   ]
  },
  {
   "cell_type": "code",
   "execution_count": 18,
   "id": "77df9952",
   "metadata": {
    "pycharm": {
     "name": "#%%\n"
    }
   },
   "outputs": [],
   "source": [
    "url_to_text = [readText(r'C:\\Users\\Mops010\\Downloads\\test_sci_cript.txt', 'utf-8')]\n",
    "\n",
    "urlWordIndexes = tokenizer.texts_to_sequences(url_to_text)  #  тесты в индексы"
   ]
  },
  {
   "cell_type": "code",
   "execution_count": 19,
   "id": "eb3ea8a2",
   "metadata": {
    "pycharm": {
     "name": "#%%\n"
    }
   },
   "outputs": [],
   "source": [
    "def getSetFromIndexes1(wordIndexes, xLen, step):  # функция принимает последовательность индексов, размер окна, шаг окна\n",
    "    xSample = []  # Объявляем переменную для векторов\n",
    "    wordsLen = len(wordIndexes)  # Считаем количество слов\n",
    "    index = 0  # Задаем начальный индекс\n",
    "\n",
    "    while index + xLen <= wordsLen:  # Идём по всей длине вектора индексов\n",
    "        xSample += wordIndexes[index:index + xLen]  # \"Откусываем\" векторы длины xLen\n",
    "        index += step  # Смещаемся вперёд на step\n",
    "\n",
    "    return xSample"
   ]
  },
  {
   "cell_type": "code",
   "execution_count": 20,
   "id": "3c253d9e",
   "metadata": {
    "pycharm": {
     "name": "#%%\n"
    }
   },
   "outputs": [],
   "source": [
    "def createSetsMultiClasses(wordIndexes, xLen,\n",
    "                           step):  # Функция принимает последовательность индексов, размер окна, шаг окна\n",
    "\n",
    "    # Для каждого из 6 классов\n",
    "    # Создаём обучающую/проверочную выборку из индексов\n",
    "    nClasses = len(wordIndexes)  # Задаем количество классов выборки\n",
    "    classesXSamples = []  # Здесь будет список размером \"кол-во классов*кол-во окон в тексте*длину окна (например, 6 по 1341*1000)\"\n",
    "    for wI in wordIndexes:  # Для каждого текста выборки из последовательности индексов\n",
    "        classesXSamples.append(getSetFromIndexes(wI, xLen,\n",
    "                                                 step))  # Добавляем в список очередной текст индексов, разбитый на \"кол-во окон*длину окна\"\n",
    "\n",
    "    # Формируем один общий xSamples\n",
    "    xSamples = []  # Здесь будет список размером \"суммарное кол-во окон во всех текстах*длину окна (например, 15779*1000)\"\n",
    "\n",
    "    for t in range(nClasses):\n",
    "        xT = classesXSamples[t]  # Берем очередной текст вида \"кол-во окон в тексте*длину окна\"(например, 1341*1000)\n",
    "        for y in range(len(xT)):  # И каждое его окно\n",
    "            xSamples.append(xT[y])  # Добавляем в общий список выборки\n",
    "\n",
    "    xSamples = np.array(xSamples)  # Переводим в массив numpy для подачи в нейронку\n",
    "\n",
    "    return xSamples"
   ]
  },
  {
   "cell_type": "code",
   "execution_count": 45,
   "id": "5771e96d",
   "metadata": {
    "pycharm": {
     "name": "#%%\n"
    }
   },
   "outputs": [
    {
     "data": {
      "text/plain": [
       "'misc.forsale'"
      ]
     },
     "execution_count": 45,
     "metadata": {},
     "output_type": "execute_result"
    }
   ],
   "source": [
    "className[6]"
   ]
  },
  {
   "cell_type": "code",
   "execution_count": 21,
   "id": "b65bff5a",
   "metadata": {
    "pycharm": {
     "name": "#%%\n"
    }
   },
   "outputs": [
    {
     "name": "stdout",
     "output_type": "stream",
     "text": [
      "(1, 20000)\n",
      "1/1 [==============================] - 0s 21ms/step\n",
      "[14]\n",
      "soc.religion.christian\n"
     ]
    }
   ],
   "source": [
    "xURL = createSetsMultiClasses(urlWordIndexes, xLen, step)  #извлекаем URL выборку\n",
    "\n",
    "xURL01 = tokenizer.sequences_to_matrix(xURL.tolist())\n",
    "print(xURL01.shape)\n",
    "pred2 = model01.predict(xURL01)\n",
    "\n",
    "pred01 = []\n",
    "\n",
    "for i in pred2:\n",
    "    pred01.append(np.where(i == max(i))[0][0])\n",
    "\n",
    "mn = []\n",
    "print(pred01)\n",
    "\n",
    "for k in set(pred01):\n",
    "    mn.append([pred01.count(k), k])\n",
    "print(className[max(mn)[1]])"
   ]
  }
 ],
 "metadata": {
  "celltoolbar": "Слайд-шоу",
  "kernelspec": {
   "display_name": "Python 3 (ipykernel)",
   "language": "python",
   "name": "python3"
  },
  "language_info": {
   "codemirror_mode": {
    "name": "ipython",
    "version": 3
   },
   "file_extension": ".py",
   "mimetype": "text/x-python",
   "name": "python",
   "nbconvert_exporter": "python",
   "pygments_lexer": "ipython3",
   "version": "3.9.13"
  }
 },
 "nbformat": 4,
 "nbformat_minor": 5
}